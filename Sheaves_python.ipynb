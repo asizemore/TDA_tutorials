{
 "cells": [
  {
   "cell_type": "markdown",
   "metadata": {},
   "source": [
    "## Sheavveess"
   ]
  },
  {
   "cell_type": "code",
   "execution_count": 4,
   "metadata": {},
   "outputs": [
    {
     "ename": "SyntaxError",
     "evalue": "invalid syntax (<ipython-input-4-fa8fccf0ad74>, line 2)",
     "output_type": "error",
     "traceback": [
      "\u001b[0;36m  File \u001b[0;32m\"<ipython-input-4-fa8fccf0ad74>\"\u001b[0;36m, line \u001b[0;32m2\u001b[0m\n\u001b[0;31m    \"pysheaf/setup.py\" install\u001b[0m\n\u001b[0m                             ^\u001b[0m\n\u001b[0;31mSyntaxError\u001b[0m\u001b[0;31m:\u001b[0m invalid syntax\n"
     ]
    }
   ],
   "source": [
    "# The python way so then i can port to julia"
   ]
  },
  {
   "cell_type": "code",
   "execution_count": 9,
   "metadata": {},
   "outputs": [],
   "source": [
    "import pysheaf as ps\n",
    "import matplotlib.pyplot as plt\n",
    "import numpy as np\n",
    "import networkx as nx"
   ]
  },
  {
   "cell_type": "code",
   "execution_count": 14,
   "metadata": {},
   "outputs": [],
   "source": [
    "shf=ps.Sheaf()\n",
    "shf.AddCell('A',ps.Cell('real')) # First argument is the name of the Cell, the second describes the stalk\n",
    "shf.AddCell('B',ps.Cell('real'))\n",
    "shf.AddCell('C',ps.Cell('real'))\n",
    "\n",
    "shf.AddCoface('A','C',ps.Coface('real','real',lambda x : (0.5 * x)))\n",
    "shf.AddCoface('B','C',ps.Coface('real','real',lambda x : x))"
   ]
  },
  {
   "cell_type": "code",
   "execution_count": 15,
   "metadata": {},
   "outputs": [
    {
     "data": {
      "text/plain": [
       "[<matplotlib.patches.FancyArrowPatch at 0x7fb891138940>,\n",
       " <matplotlib.patches.FancyArrowPatch at 0x7fb8911307b8>]"
      ]
     },
     "execution_count": 15,
     "metadata": {},
     "output_type": "execute_result"
    },
    {
     "data": {
      "image/png": "[encoded data removed]",
      "text/plain": [
       "<Figure size 432x288 with 1 Axes>"
      ]
     },
     "metadata": {},
     "output_type": "display_data"
    }
   ],
   "source": [
    "shf\n",
    "pos=nx.layout.spectral_layout(shf)\n",
    "nx.draw_networkx_labels(shf,pos)\n",
    "nx.draw_networkx_edges(shf,pos)"
   ]
  },
  {
   "cell_type": "code",
   "execution_count": 11,
   "metadata": {},
   "outputs": [],
   "source": [
    "\n",
    "shf.GetCell('A').SetDataAssignment(ps.Assignment('real',1.0))\n",
    "shf.GetCell('B').SetDataAssignment(ps.Assignment('real',0.0))\n",
    "shf.GetCell('C').SetDataAssignment(ps.Assignment('real',0.5))"
   ]
  },
  {
   "cell_type": "code",
   "execution_count": 12,
   "metadata": {},
   "outputs": [
    {
     "name": "stdout",
     "output_type": "stream",
     "text": [
      "0.5\n"
     ]
    }
   ],
   "source": [
    "shf.MaximallyExtendCell('A')\n",
    "shf.MaximallyExtendCell('B')\n",
    "shf.MaximallyExtendCell('C')\n",
    "print(shf.ComputeConsistencyRadius())"
   ]
  },
  {
   "cell_type": "code",
   "execution_count": 13,
   "metadata": {},
   "outputs": [],
   "source": [
    "\n",
    "shf.GetCell('C').mDataAssignmentPresent = False\n",
    "shf.ClearExtendedAssignments()"
   ]
  },
  {
   "cell_type": "code",
   "execution_count": null,
   "metadata": {},
   "outputs": [],
   "source": []
  }
 ],
 "metadata": {
  "kernelspec": {
   "display_name": "Python 3",
   "language": "python",
   "name": "python3"
  },
  "language_info": {
   "codemirror_mode": {
    "name": "ipython",
    "version": 3
   },
   "file_extension": ".py",
   "mimetype": "text/x-python",
   "name": "python",
   "nbconvert_exporter": "python",
   "pygments_lexer": "ipython3",
   "version": "3.7.3"
  }
 },
 "nbformat": 4,
 "nbformat_minor": 2
}
