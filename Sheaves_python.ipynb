{
 "cells": [
  {
   "cell_type": "markdown",
   "metadata": {},
   "source": [
    "## Sheavveess"
   ]
  },
  {
   "cell_type": "code",
   "execution_count": null,
   "metadata": {},
   "outputs": [],
   "source": [
    "# The python way so then i can port to julia"
   ]
  },
  {
   "cell_type": "code",
   "execution_count": 1,
   "metadata": {},
   "outputs": [],
   "source": [
    "import pysheaf as ps\n",
    "import matplotlib.pyplot as plt\n",
    "import numpy as np\n",
    "import networkx as nx\n",
    "\n"
   ]
  },
  {
   "cell_type": "code",
   "execution_count": null,
   "metadata": {},
   "outputs": [],
   "source": [
    "shf=ps.Sheaf()\n",
    "shf.AddCell('A',ps.Cell('real')) # First argument is the name of the Cell, the second describes the stalk\n",
    "shf.AddCell('B',ps.Cell('real'))\n",
    "shf.AddCell('C',ps.Cell('real'))\n",
    "\n",
    "shf.AddCoface('A','C',ps.Coface('real','real',lambda x : (0.5 * x)))\n",
    "shf.AddCoface('B','C',ps.Coface('real','real',lambda x : x))"
   ]
  },
  {
   "cell_type": "code",
   "execution_count": null,
   "metadata": {},
   "outputs": [],
   "source": [
    "shf\n",
    "pos=nx.layout.spectral_layout(shf)\n",
    "nx.draw_networkx_labels(shf,pos)\n",
    "nx.draw_networkx_edges(shf,pos)"
   ]
  },
  {
   "cell_type": "code",
   "execution_count": null,
   "metadata": {},
   "outputs": [],
   "source": [
    "\n",
    "shf.GetCell('A').SetDataAssignment(ps.Assignment('real',1.0))\n",
    "shf.GetCell('B').SetDataAssignment(ps.Assignment('real',0.0))\n",
    "shf.GetCell('C').SetDataAssignment(ps.Assignment('real',0.5))"
   ]
  },
  {
   "cell_type": "code",
   "execution_count": null,
   "metadata": {},
   "outputs": [],
   "source": [
    "shf.MaximallyExtendCell('A')\n",
    "shf.MaximallyExtendCell('B')\n",
    "shf.MaximallyExtendCell('C')\n",
    "print(shf.ComputeConsistencyRadius())"
   ]
  },
  {
   "cell_type": "code",
   "execution_count": null,
   "metadata": {},
   "outputs": [],
   "source": [
    "\n",
    "shf.GetCell('C').mDataAssignmentPresent = False\n",
    "shf.ClearExtendedAssignments()"
   ]
  },
  {
   "cell_type": "code",
   "execution_count": 2,
   "metadata": {},
   "outputs": [],
   "source": [
    "####\n",
    "def CompareArrays(array1,array2):\n",
    "    return np.average(array1-array2)\n",
    "\n",
    "graph = ps.Sheaf()\n",
    "graph.AddCell(0,ps.Cell(\"linear_morphism_type\",CompareArrays,dataDimension = 2))\n",
    "graph.AddCell(1,ps.Cell(\"linear_morphism_type\",CompareArrays,dataDimension = 2))\n",
    "\n",
    "\n",
    "\n"
   ]
  },
  {
   "cell_type": "code",
   "execution_count": 3,
   "metadata": {},
   "outputs": [],
   "source": [
    "\n",
    "\n",
    "graph.GetCell(0).SetDataAssignment(ps.Assignment(\"linear_morphism_type\",np.array([5,6])))\n",
    "\n",
    "#graph.GetCell(1).SetDataAssignment(ps.Assignment(\"linear_morphism_type\",np.array([15,16])))\n",
    "\n",
    "graph.AddCoface(0,1,ps.Coface(\"linear_morphism_type\",\"linear_morphism_type\",np.array([[1,0],[0,1]])))\n",
    "\n",
    "\n"
   ]
  },
  {
   "cell_type": "code",
   "execution_count": 10,
   "metadata": {},
   "outputs": [
    {
     "data": {
      "text/plain": [
       "[]"
      ]
     },
     "execution_count": 10,
     "metadata": {},
     "output_type": "execute_result"
    }
   ],
   "source": [
    "graph.GetCell(0).GetLocalExtendedAssignmentValueList()"
   ]
  },
  {
   "cell_type": "code",
   "execution_count": 11,
   "metadata": {},
   "outputs": [],
   "source": [
    "graph1 = ps.Sheaf()"
   ]
  },
  {
   "cell_type": "code",
   "execution_count": 25,
   "metadata": {},
   "outputs": [],
   "source": [
    "graph1.AddCell('A',ps.Cell('real'))\n",
    "graph1.AddCell('B',ps.Cell('real'))\n",
    "graph1.AddCell('C',ps.Cell('real'))\n"
   ]
  },
  {
   "cell_type": "code",
   "execution_count": 26,
   "metadata": {},
   "outputs": [],
   "source": [
    "graph1.AddCoface('A','B',ps.Coface('real','real',lambda x : x))\n",
    "graph1.AddCoface('B','C',ps.Coface('real','real',lambda x : x))\n"
   ]
  },
  {
   "cell_type": "code",
   "execution_count": 42,
   "metadata": {},
   "outputs": [
    {
     "data": {
      "text/plain": [
       "[<matplotlib.patches.FancyArrowPatch at 0x7fdaae64ef28>,\n",
       " <matplotlib.patches.FancyArrowPatch at 0x7fdaae657a90>]"
      ]
     },
     "execution_count": 42,
     "metadata": {},
     "output_type": "execute_result"
    },
    {
     "data": {
      "image/png": "[encoded data removed]",
      "text/plain": [
       "<Figure size 432x288 with 1 Axes>"
      ]
     },
     "metadata": {},
     "output_type": "display_data"
    }
   ],
   "source": [
    "pos = nx.layout.spring_layout(graph1)\n",
    "nx.draw_networkx_labels(graph1,pos)\n",
    "nx.draw_networkx_edges(graph1,pos)"
   ]
  },
  {
   "cell_type": "code",
   "execution_count": 34,
   "metadata": {},
   "outputs": [],
   "source": [
    "graph1.GetCell('A').SetDataAssignment(ps.Assignment('real',1.5))\n",
    "graph1.GetCell('B').SetDataAssignment(ps.Assignment('real',1.0))\n",
    "graph1.GetCell('C').SetDataAssignment(ps.Assignment('real',1.0))\n"
   ]
  },
  {
   "cell_type": "code",
   "execution_count": 35,
   "metadata": {},
   "outputs": [
    {
     "name": "stdout",
     "output_type": "stream",
     "text": [
      "0.5\n"
     ]
    }
   ],
   "source": [
    "graph1.MaximallyExtendCell('A')\n",
    "graph1.MaximallyExtendCell('B')\n",
    "graph1.MaximallyExtendCell('C')\n",
    "print(graph1.ComputeConsistencyRadius())"
   ]
  },
  {
   "cell_type": "code",
   "execution_count": 36,
   "metadata": {},
   "outputs": [],
   "source": [
    "graph1.GetCell('C').mDataAssignmentPresent = False\n",
    "graph1.ClearExtendedAssignments()"
   ]
  },
  {
   "cell_type": "code",
   "execution_count": 37,
   "metadata": {},
   "outputs": [
    {
     "name": "stdout",
     "output_type": "stream",
     "text": [
      "0.5\n"
     ]
    }
   ],
   "source": [
    "graph1.MaximallyExtendCell('A')\n",
    "graph1.MaximallyExtendCell('B')\n",
    "graph1.MaximallyExtendCell('C')\n",
    "print(graph1.ComputeConsistencyRadius())"
   ]
  },
  {
   "cell_type": "code",
   "execution_count": 38,
   "metadata": {},
   "outputs": [],
   "source": [
    "from numpy.linalg import matrix_rank"
   ]
  },
  {
   "cell_type": "code",
   "execution_count": 41,
   "metadata": {},
   "outputs": [
    {
     "ename": "AttributeError",
     "evalue": "module 'pysheaf' has no attribute 'SheafCoface'",
     "output_type": "error",
     "traceback": [
      "\u001b[0;31m---------------------------------------------------------------------------\u001b[0m",
      "\u001b[0;31mAttributeError\u001b[0m                            Traceback (most recent call last)",
      "\u001b[0;32m<ipython-input-41-85a92c5d7d54>\u001b[0m in \u001b[0;36m<module>\u001b[0;34m\u001b[0m\n\u001b[1;32m      3\u001b[0m \u001b[0mrestsum\u001b[0m \u001b[0;34m=\u001b[0m \u001b[0mnp\u001b[0m\u001b[0;34m.\u001b[0m\u001b[0mmatrix\u001b[0m\u001b[0;34m(\u001b[0m\u001b[0;34m[\u001b[0m\u001b[0;36m1\u001b[0m\u001b[0;34m,\u001b[0m\u001b[0;36m1\u001b[0m\u001b[0;34m]\u001b[0m\u001b[0;34m)\u001b[0m\u001b[0;34m\u001b[0m\u001b[0;34m\u001b[0m\u001b[0m\n\u001b[1;32m      4\u001b[0m \u001b[0;34m\u001b[0m\u001b[0m\n\u001b[0;32m----> 5\u001b[0;31m \u001b[0mcfv0e1\u001b[0m \u001b[0;34m=\u001b[0m \u001b[0mps\u001b[0m\u001b[0;34m.\u001b[0m\u001b[0mSheafCoface\u001b[0m\u001b[0;34m(\u001b[0m\u001b[0;36m2\u001b[0m\u001b[0;34m,\u001b[0m\u001b[0;36m1\u001b[0m\u001b[0;34m,\u001b[0m\u001b[0mpr1\u001b[0m\u001b[0;34m)\u001b[0m\u001b[0;34m\u001b[0m\u001b[0;34m\u001b[0m\u001b[0m\n\u001b[0m\u001b[1;32m      6\u001b[0m \u001b[0mcfv0e2\u001b[0m \u001b[0;34m=\u001b[0m \u001b[0mps\u001b[0m\u001b[0;34m.\u001b[0m\u001b[0mSheafCoface\u001b[0m\u001b[0;34m(\u001b[0m\u001b[0;36m3\u001b[0m\u001b[0;34m,\u001b[0m\u001b[0;36m1\u001b[0m\u001b[0;34m,\u001b[0m\u001b[0mpr2\u001b[0m\u001b[0;34m)\u001b[0m\u001b[0;34m\u001b[0m\u001b[0;34m\u001b[0m\u001b[0m\n\u001b[1;32m      7\u001b[0m \u001b[0mcfv1e1\u001b[0m \u001b[0;34m=\u001b[0m \u001b[0mps\u001b[0m\u001b[0;34m.\u001b[0m\u001b[0mSheafCoface\u001b[0m\u001b[0;34m(\u001b[0m\u001b[0;36m2\u001b[0m\u001b[0;34m,\u001b[0m\u001b[0;34m-\u001b[0m\u001b[0;36m1\u001b[0m\u001b[0;34m,\u001b[0m\u001b[0mpr1\u001b[0m\u001b[0;34m)\u001b[0m\u001b[0;34m\u001b[0m\u001b[0;34m\u001b[0m\u001b[0m\n",
      "\u001b[0;31mAttributeError\u001b[0m: module 'pysheaf' has no attribute 'SheafCoface'"
     ]
    }
   ],
   "source": [
    "\n",
    "pr1 = np.matrix([1,0])\n",
    "pr2 = np.matrix([0,1])\n",
    "restsum = np.matrix([1,1])\n",
    " \n",
    "cfv0e1 = ps.SheafCoface(2,1,pr1)\n",
    "cfv0e2 = ps.SheafCoface(3,1,pr2)\n",
    "cfv1e1 = ps.SheafCoface(2,-1,pr1)\n",
    "cfv1e2 = ps.SheafCoface(3,-1,pr2)\n",
    "cfv0e3 = ps.SheafCoface(4,1,restsum)\n",
    "cfv1e4 = ps.SheafCoface(5,1,restsum)\n",
    "\n",
    "v0 = ps.SheafCell(dimension=0,id=0,stalkDim=2,name='v0',\n",
    "            cofaces=[cfv0e1,cfv0e2])\n",
    "v1 = ps.SheafCell(dimension=0,id=1,stalkDim=2,name='v1',\n",
    "            cofaces=[cfv1e1,cfv1e2])\n",
    "e1 = ps.SheafCell(dimension=1,id=2,stalkDim=1,name='e1')\n",
    "e2 = ps.SheafCell(dimension=1,id=3,stalkDim=1,name='e2')\n",
    "e3 = ps.SheafCell(dimension=1,id=4,stalkDim=1,name='e3')\n",
    "e4 = ps.SheafCell(dimension=1,id=5,stalkDim=1,name='e4')\n",
    "\n",
    "sheaf = ps.Sheaf([v0,v1,e1,e2,e3,e4])"
   ]
  },
  {
   "cell_type": "code",
   "execution_count": 73,
   "metadata": {},
   "outputs": [
    {
     "name": "stdout",
     "output_type": "stream",
     "text": [
      "Consistency radius : 17.75\n",
      "Consistent stars at 0.0 : []\n",
      "Consistent stars at 0.2 : ['C']\n",
      "Consistent stars at 0.3 : ['A']\n",
      "Consistent stars at 0.8 : ['A']\n"
     ]
    }
   ],
   "source": [
    "def mult_by_two(x):\n",
    "    return 2.0*x\n",
    "\n",
    "def mult_by_half(x):\n",
    "    return 0.5*x\n",
    "\n",
    "\n",
    "\n",
    "shf=ps.Sheaf()\n",
    "\n",
    "shf.AddCell('A',ps.Cell('Slata'))\n",
    "shf.AddCell('B',ps.Cell('Scalar'))\n",
    "shf.AddCell('C',ps.Cell('Scalar'))\n",
    "\n",
    "shf.AddCoface('A','C',ps.Coface('Slata','Scalar',lambda x: x))\n",
    "shf.AddCoface('B','C',ps.Coface('Scalar','Scalar',lambda x: x))\n",
    "shf.GetCell('A').SetDataAssignment(ps.Assignment('Slata',0))\n",
    "shf.GetCell('B').SetDataAssignment(ps.Assignment('Scalar',18))\n",
    "shf.GetCell('C').SetDataAssignment(ps.Assignment('Scalar',0.25))\n",
    "\n",
    "shf.mPreventRedundantExtendedAssignments=False\n",
    "\n",
    "shf.MaximallyExtendCell('A')\n",
    "shf.MaximallyExtendCell('B')\n",
    "shf.MaximallyExtendCell('C')\n",
    "\n",
    "print('Consistency radius : {}'.format(shf.ComputeConsistencyRadius()))\n",
    "\n",
    "for thres in [0., 0.2, 0.3, 0.8]:\n",
    "    print('Consistent stars at {} : {}'.format(thres,shf.ConsistentStarCollection(thres)))"
   ]
  },
  {
   "cell_type": "code",
   "execution_count": 77,
   "metadata": {},
   "outputs": [
    {
     "name": "stdout",
     "output_type": "stream",
     "text": [
      "Consistency radius : 0.0\n"
     ]
    }
   ],
   "source": [
    "shf_cell = ps.Sheaf()\n",
    "shf_cell.AddCell('A',ps.Cell('scalar'))\n",
    "shf_cell.AddCell('B',ps.Cell('scalar'))\n",
    "shf_cell.AddCell('C',ps.Cell('scalar'))\n",
    "\n",
    "shf_cell.AddCoface('A','B',ps.Coface('scalar','scalar',mult_by_two))\n",
    "shf_cell.AddCoface('B','C',ps.Coface('scalar','scalar',mult_by_half))\n",
    "\n",
    "shf_cell.GetCell('A').SetDataAssignment(ps.Assignment('scalar',4))\n",
    "shf_cell.GetCell('B').SetDataAssignment(ps.Assignment('scalar',8))\n",
    "shf_cell.GetCell('C').SetDataAssignment(ps.Assignment('scalar',4))\n",
    "\n",
    "shf_cell.mPreventRedundantExtendedAssignments=False\n",
    "\n",
    "\n",
    "shf_cell.MaximallyExtendCell('A')\n",
    "shf_cell.MaximallyExtendCell('B')\n",
    "shf_cell.MaximallyExtendCell('C')\n",
    "\n",
    "print('Consistency radius : {}'.format(shf_cell.ComputeConsistencyRadius()))\n"
   ]
  },
  {
   "cell_type": "code",
   "execution_count": 72,
   "metadata": {},
   "outputs": [
    {
     "ename": "NameError",
     "evalue": "name 'mult_by_two' is not defined",
     "output_type": "error",
     "traceback": [
      "\u001b[0;31m---------------------------------------------------------------------------\u001b[0m",
      "\u001b[0;31mNameError\u001b[0m                                 Traceback (most recent call last)",
      "\u001b[0;32m<ipython-input-72-1248db291049>\u001b[0m in \u001b[0;36m<module>\u001b[0;34m\u001b[0m\n\u001b[0;32m----> 1\u001b[0;31m \u001b[0mmult_by_two\u001b[0m\u001b[0;34m\u001b[0m\u001b[0;34m\u001b[0m\u001b[0m\n\u001b[0m",
      "\u001b[0;31mNameError\u001b[0m: name 'mult_by_two' is not defined"
     ]
    }
   ],
   "source": [
    "mult_by_two"
   ]
  },
  {
   "cell_type": "code",
   "execution_count": null,
   "metadata": {},
   "outputs": [],
   "source": []
  }
 ],
 "metadata": {
  "kernelspec": {
   "display_name": "Python 3",
   "language": "python",
   "name": "python3"
  },
  "language_info": {
   "codemirror_mode": {
    "name": "ipython",
    "version": 3
   },
   "file_extension": ".py",
   "mimetype": "text/x-python",
   "name": "python",
   "nbconvert_exporter": "python",
   "pygments_lexer": "ipython3",
   "version": "3.7.3"
  }
 },
 "nbformat": 4,
 "nbformat_minor": 2
}
