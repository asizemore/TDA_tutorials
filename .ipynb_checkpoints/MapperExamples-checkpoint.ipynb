{
 "cells": [
  {
   "cell_type": "markdown",
   "metadata": {},
   "source": [
    "Mapper\n",
    "======\n",
    "\n",
    "### In this tutorial we will use the [kmapper](https://github.com/scikit-tda/kepler-mapper/tree/master/kmapper) python package to implement mapper clustering on some example data.\n"
   ]
  },
  {
   "cell_type": "code",
   "execution_count": null,
   "metadata": {},
   "outputs": [],
   "source": [
    "## First load in julia and python packages.\n",
    "\n",
    "using DataFrames\n",
    "using PyCall\n",
    "using Plots\n",
    "theme(:dark)\n",
    "\n",
    "skdatasets = pyimport(\"sklearn.datasets\")\n",
    "\n",
    "println(\"Finished loading packages.\")"
   ]
  },
  {
   "cell_type": "markdown",
   "metadata": {},
   "source": [
    "#### Generate two concentric circles and see if Mapper can distinguish between them.\n",
    "\n",
    "This tutorial is from the [KeplerMapper Documentation](https://kepler-mapper.scikit-tda.org/started.html) with minor edits. First we generate the circles data from the scikit-learn package with `make_circles`. This funciton produces an $nPoints \\times nCoordinates$ array describing points randomly sampled from the two circles (plus noise). Before running mapper, let's plot the points and see how the data looks."
   ]
  },
  {
   "cell_type": "code",
   "execution_count": null,
   "metadata": {},
   "outputs": [],
   "source": [
    "# Generate data\n",
    "data, labels = skdatasets.make_circles(n_samples = 5000, noise = 0.03, factor = 0.3)\n",
    "\n",
    "# Plot data\n",
    "gr()\n",
    "p1 = scatter(data[:,1],data[:,2], frame_style = :box, legend = false)\n",
    "title!(\"Two circles\")"
   ]
  },
  {
   "cell_type": "markdown",
   "metadata": {},
   "source": [
    "Next we'll run mapper on the above data points. To demonstrate, we'll use the \"sum\" projection."
   ]
  },
  {
   "cell_type": "code",
   "execution_count": null,
   "metadata": {},
   "outputs": [],
   "source": [
    "# Run mapper using py\"\"\" \"\"\"\n",
    "\n",
    "py\"\"\"\n",
    "\n",
    "import kmapper as km\n",
    "import sklearn as sk\n",
    "\n",
    "\n",
    "mapper = km.KeplerMapper(verbose=1)\n",
    "\n",
    "# Next we project the data using the 'projection' variable. Currently it is set to [0,1], meaning we will use \n",
    "# as a lens using both coordinates of our points. Alternatively, the projection could be \"sum\", \n",
    "# \"mean\", sklearn.decomposition.PCA(), manifold.TSNE(), etc.\n",
    "projected_data = mapper.fit_transform($data, projection=[0,1],scaler = None) \n",
    "\n",
    "\n",
    "# Create the mapper graph!\n",
    "# The default cluster method is DBSCAN, or we could alternatively use \n",
    "# clusterer = sklearn.cluster.KMeans(2), etc.\n",
    "graph = mapper.map(projected_data, $data, cover = km.Cover(n_cubes=10))\n",
    "\n",
    "\n",
    "# Create visualization of the output and save.\n",
    "output_path = \"Two_circles_mapper.html\"\n",
    "mapper.visualize(graph, path_html = output_path,\n",
    "                 title=\"make_circles(n_samples=5000, noise=0.03, factor=0.3)\",color_function = $(data[:,1]))\n",
    "\"\"\"\n",
    "\n",
    "println(\"Finished making mapper graph!\")\n"
   ]
  },
  {
   "cell_type": "code",
   "execution_count": null,
   "metadata": {},
   "outputs": [],
   "source": []
  }
 ],
 "metadata": {
  "@webio": {
   "lastCommId": null,
   "lastKernelId": null
  },
  "kernelspec": {
   "display_name": "Julia 1.1.1",
   "language": "julia",
   "name": "julia-1.1"
  },
  "language_info": {
   "file_extension": ".jl",
   "mimetype": "application/julia",
   "name": "julia",
   "version": "1.1.1"
  }
 },
 "nbformat": 4,
 "nbformat_minor": 2
}
