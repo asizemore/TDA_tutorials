{
 "cells": [
  {
   "cell_type": "code",
   "execution_count": 1,
   "metadata": {},
   "outputs": [
    {
     "name": "stderr",
     "output_type": "stream",
     "text": [
      "┌ Info: Precompiling Plots [91a5bcdd-55d7-5caf-9e0b-520d859cae80]\n",
      "└ @ Base loading.jl:1242\n",
      "┌ Info: Precompiling DataFrames [a93c6f00-e57d-5684-b7b6-d8193f3e46c0]\n",
      "└ @ Base loading.jl:1242\n",
      "┌ Info: Precompiling PyCall [438e738f-606a-5dbb-bf0a-cddfbfd45ab0]\n",
      "└ @ Base loading.jl:1242\n",
      "┌ Info: Precompiling MAT [23992714-dd62-5051-b70f-ba57cb901cac]\n",
      "└ @ Base loading.jl:1242\n"
     ]
    },
    {
     "data": {
      "text/plain": [
       "PyObject <module 'pysheaf' from '/opt/conda/lib/python3.7/site-packages/pysheaf-0.3.1-py3.7.egg/pysheaf/__init__.py'>"
      ]
     },
     "execution_count": 1,
     "metadata": {},
     "output_type": "execute_result"
    }
   ],
   "source": [
    "## I can do this!!\n",
    "\n",
    "using Plots\n",
    "theme(:dark)\n",
    "using DataFrames\n",
    "using PyCall\n",
    "using MAT\n",
    "using LinearAlgebra\n",
    "\n",
    "ps = pyimport(\"pysheaf\")"
   ]
  },
  {
   "cell_type": "code",
   "execution_count": 2,
   "metadata": {},
   "outputs": [
    {
     "data": {
      "text/plain": [
       "PyObject <module 'networkx' from '/opt/conda/lib/python3.7/site-packages/networkx/__init__.py'>"
      ]
     },
     "execution_count": 2,
     "metadata": {},
     "output_type": "execute_result"
    }
   ],
   "source": [
    "nx = pyimport(\"networkx\")"
   ]
  },
  {
   "cell_type": "code",
   "execution_count": 13,
   "metadata": {},
   "outputs": [
    {
     "ename": "LoadError",
     "evalue": "syntax: missing comma or ) in argument list",
     "output_type": "error",
     "traceback": [
      "syntax: missing comma or ) in argument list",
      ""
     ]
    }
   ],
   "source": [
    "shf=ps.Sheaf()\n",
    "shf.AddCell(\"A\",ps.Cell(\"real\")) # First argument is the name of the Cell, the second describes the stalk\n",
    "shf.AddCell(\"B\",ps.Cell(\"real\"))\n",
    "shf.AddCell(\"C\",ps.Cell(\"real\"))\n",
    "\n",
    "shf.AddCoface(\"A\",\"C\",ps.Coface(\"real\",\"real\",lambda x : (0.5 * x)))\n",
    "#shf.AddCoface(\"B\",\"C\",ps.Coface(\"real\",\"real\",lambda x : x))\n",
    "\n",
    "#py\"\"\"\n",
    "#pos=nx.layout.spectral_layout($shf)\n",
    "#nx.draw_networkx_labels($shf,$pos)\n",
    "#nx.draw_networkx_edges($shf,$pos)\n",
    "#\"\"\""
   ]
  },
  {
   "cell_type": "code",
   "execution_count": 9,
   "metadata": {},
   "outputs": [
    {
     "name": "stderr",
     "output_type": "stream",
     "text": [
      "┌ Info: Precompiling LightGraphs [093fc24a-ae57-5d10-9952-331d41423f4d]\n",
      "└ @ Base loading.jl:1242\n",
      "┌ Info: Precompiling GraphPlot [a2cc645c-3eea-5389-862e-a155d0052231]\n",
      "└ @ Base loading.jl:1242\n"
     ]
    }
   ],
   "source": [
    "using LightGraphs\n",
    "using GraphPlot"
   ]
  },
  {
   "cell_type": "code",
   "execution_count": 10,
   "metadata": {},
   "outputs": [
    {
     "ename": "MethodError",
     "evalue": "MethodError: no method matching _nv(::PyObject)\nClosest candidates are:\n  _nv(!Matched::AbstractGraph) at /opt/julia/packages/GraphPlot/4prMP/src/GraphPlot.jl:38",
     "output_type": "error",
     "traceback": [
      "MethodError: no method matching _nv(::PyObject)\nClosest candidates are:\n  _nv(!Matched::AbstractGraph) at /opt/julia/packages/GraphPlot/4prMP/src/GraphPlot.jl:38",
      "",
      "Stacktrace:",
      " [1] spring_layout(::PyObject) at /opt/julia/packages/GraphPlot/4prMP/src/layout.jl:103",
      " [2] #gplot#18(::typeof(spring_layout), ::Base.Iterators.Pairs{Union{},Union{},Tuple{},NamedTuple{(),Tuple{}}}, ::typeof(gplot), ::PyObject) at /opt/julia/packages/GraphPlot/4prMP/src/plot.jl:224",
      " [3] gplot(::PyObject) at /opt/julia/packages/GraphPlot/4prMP/src/plot.jl:224",
      " [4] top-level scope at In[10]:1"
     ]
    }
   ],
   "source": [
    "gplot(shf)"
   ]
  },
  {
   "cell_type": "code",
   "execution_count": null,
   "metadata": {},
   "outputs": [],
   "source": []
  }
 ],
 "metadata": {
  "kernelspec": {
   "display_name": "Julia 1.2.0",
   "language": "julia",
   "name": "julia-1.2"
  },
  "language_info": {
   "file_extension": ".jl",
   "mimetype": "application/julia",
   "name": "julia",
   "version": "1.2.0"
  }
 },
 "nbformat": 4,
 "nbformat_minor": 2
}
