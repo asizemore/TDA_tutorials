{
 "cells": [
  {
   "cell_type": "markdown",
   "metadata": {},
   "source": [
    "# Introductory sheaves tutorial\n",
    "\n",
    "### Beginning sheaf tutorial"
   ]
  },
  {
   "cell_type": "markdown",
   "metadata": {},
   "source": [
    "Sheaf code is still under active development so we will demonstrate a simple example from Figure 3 of "
   ]
  },
  {
   "cell_type": "code",
   "execution_count": 1,
   "metadata": {},
   "outputs": [
    {
     "name": "stderr",
     "output_type": "stream",
     "text": [
      "┌ Info: Precompiling Plots [91a5bcdd-55d7-5caf-9e0b-520d859cae80]\n",
      "└ @ Base loading.jl:1242\n",
      "┌ Info: Precompiling DataFrames [a93c6f00-e57d-5684-b7b6-d8193f3e46c0]\n",
      "└ @ Base loading.jl:1242\n",
      "┌ Info: Precompiling PyCall [438e738f-606a-5dbb-bf0a-cddfbfd45ab0]\n",
      "└ @ Base loading.jl:1242\n",
      "┌ Info: Precompiling MAT [23992714-dd62-5051-b70f-ba57cb901cac]\n",
      "└ @ Base loading.jl:1242\n"
     ]
    },
    {
     "data": {
      "text/plain": [
       "PyObject <module 'pysheaf' from '/opt/conda/lib/python3.7/site-packages/pysheaf-0.3.1-py3.7.egg/pysheaf/__init__.py'>"
      ]
     },
     "execution_count": 1,
     "metadata": {},
     "output_type": "execute_result"
    }
   ],
   "source": [
    "## Import python pysheaf package\n",
    "\n",
    "ps = pyimport(\"pysheaf\")"
   ]
  },
  {
   "cell_type": "markdown",
   "metadata": {},
   "source": [
    "### Cell signaling example\n",
    "\n",
    "In the cell signaling example from Figure 3a, our system is set up\n",
    "\n",
    "(Cell 1) --- 2x ---> (Cell 2) --- 0.5x ---> (Cell 3)\n",
    "\n",
    "so that cell 2 signals at twice the rate of cell 1, and cell 3 signals at half the rate of cell 2.\n",
    "\n",
    "We start to represent this system the nodes of our system with `AddCell`.\n"
   ]
  },
  {
   "cell_type": "code",
   "execution_count": 25,
   "metadata": {},
   "outputs": [],
   "source": [
    "shf=ps.Sheaf()\n",
    "\n",
    "shf.AddCell(\"Cell_1\",ps.Cell(\"real\")) # First argument is the name of the Cell, the second describes the stalk\n",
    "shf.AddCell(\"Cell_2\",ps.Cell(\"real\"))\n",
    "shf.AddCell(\"Cell_3\",ps.Cell(\"real\"))\n"
   ]
  },
  {
   "cell_type": "markdown",
   "metadata": {},
   "source": [
    "At this point we have three nodes, one for each cell, and we link them together with restriction maps"
   ]
  },
  {
   "cell_type": "code",
   "execution_count": 26,
   "metadata": {},
   "outputs": [],
   "source": [
    "shf.AddCoface(\"Cell_1\",\"Cell_2\",ps.Coface(\"real\",\"real\",\"lambda x : 2.0*x\"))\n",
    "shf.AddCoface(\"Cell_2\",\"Cell_3\",ps.Coface(\"real\",\"real\",\"lambda x : 0.5*x\"))"
   ]
  },
  {
   "cell_type": "markdown",
   "metadata": {},
   "source": [
    "Now in order to reproduce the figure, we can assign the rates for each cell:\n",
    "\n",
    "Cell 1 - 4\n",
    "Cell 2 - 8\n",
    "Cell 3 - 4\n",
    "\n",
    "and we know these also satisfy our maps. We will add the data assignments with `SetDataAssignment`."
   ]
  },
  {
   "cell_type": "code",
   "execution_count": 27,
   "metadata": {},
   "outputs": [],
   "source": [
    "shf.GetCell(\"Cell_1\").SetDataAssignment(ps.Assignment(\"real\",4.0))\n",
    "shf.GetCell(\"Cell_2\").SetDataAssignment(ps.Assignment(\"real\",8.0))\n",
    "shf.GetCell(\"Cell_3\").SetDataAssignment(ps.Assignment(\"real\",4.0))\n"
   ]
  },
  {
   "cell_type": "markdown",
   "metadata": {},
   "source": [
    "The next few lines of code check the consistency radius of the sheaf. For details see slide 16 of http://www.appliedcategorytheory.org/wp-content/uploads/2018/03/Michael-Robinson-Sheaf-Methods-for-Inference.pdf\n",
    "\n",
    "Briefly, if we pick one node and propagate that value along the sheaf following the restriction maps, we may get different values at each node than those assigned. The consistency radius is the maximum difference between the actual data assignment and an expected value via propagation. "
   ]
  },
  {
   "cell_type": "code",
   "execution_count": 34,
   "metadata": {},
   "outputs": [
    {
     "ename": "PyCall.PyError",
     "evalue": "PyError ($(Expr(:escape, :(ccall(#= /opt/julia/packages/PyCall/ttONZ/src/pyfncall.jl:44 =# @pysym(:PyObject_Call), PyPtr, (PyPtr, PyPtr, PyPtr), o, pyargsptr, kw))))) <class 'TypeError'>\nTypeError(\"'str' object is not callable\")\n  File \"/opt/conda/lib/python3.7/site-packages/pysheaf-0.3.1-py3.7.egg/pysheaf/pysheaf.py\", line 355, in MaximallyExtendCell\n    self.ExtendCellRecursiveTraverse(startCellIndex,(startCellIndex,))\n  File \"/opt/conda/lib/python3.7/site-packages/pysheaf-0.3.1-py3.7.egg/pysheaf/pysheaf.py\", line 335, in ExtendCellRecursiveTraverse\n    next_cell_assignment = self.GetCoface(cellIndex,successor_index).RunEdgeMethod(current_cell_assignment)\n  File \"/opt/conda/lib/python3.7/site-packages/pysheaf-0.3.1-py3.7.egg/pysheaf/pysheaf.py\", line 239, in RunEdgeMethod\n    return Assignment(self.mOutputTagType, self.mEdgeMethod(inputAssignment.mValue)) # RunEdgeMethod\n",
     "output_type": "error",
     "traceback": [
      "PyError ($(Expr(:escape, :(ccall(#= /opt/julia/packages/PyCall/ttONZ/src/pyfncall.jl:44 =# @pysym(:PyObject_Call), PyPtr, (PyPtr, PyPtr, PyPtr), o, pyargsptr, kw))))) <class 'TypeError'>\nTypeError(\"'str' object is not callable\")\n  File \"/opt/conda/lib/python3.7/site-packages/pysheaf-0.3.1-py3.7.egg/pysheaf/pysheaf.py\", line 355, in MaximallyExtendCell\n    self.ExtendCellRecursiveTraverse(startCellIndex,(startCellIndex,))\n  File \"/opt/conda/lib/python3.7/site-packages/pysheaf-0.3.1-py3.7.egg/pysheaf/pysheaf.py\", line 335, in ExtendCellRecursiveTraverse\n    next_cell_assignment = self.GetCoface(cellIndex,successor_index).RunEdgeMethod(current_cell_assignment)\n  File \"/opt/conda/lib/python3.7/site-packages/pysheaf-0.3.1-py3.7.egg/pysheaf/pysheaf.py\", line 239, in RunEdgeMethod\n    return Assignment(self.mOutputTagType, self.mEdgeMethod(inputAssignment.mValue)) # RunEdgeMethod\n",
      "",
      "Stacktrace:",
      " [1] pyerr_check at /opt/julia/packages/PyCall/ttONZ/src/exception.jl:60 [inlined]",
      " [2] pyerr_check at /opt/julia/packages/PyCall/ttONZ/src/exception.jl:64 [inlined]",
      " [3] macro expansion at /opt/julia/packages/PyCall/ttONZ/src/exception.jl:84 [inlined]",
      " [4] __pycall!(::PyObject, ::Ptr{PyCall.PyObject_struct}, ::PyObject, ::Ptr{Nothing}) at /opt/julia/packages/PyCall/ttONZ/src/pyfncall.jl:44",
      " [5] _pycall!(::PyObject, ::PyObject, ::Tuple{String}, ::Int64, ::Ptr{Nothing}) at /opt/julia/packages/PyCall/ttONZ/src/pyfncall.jl:29",
      " [6] #call#111 at /opt/julia/packages/PyCall/ttONZ/src/pyfncall.jl:11 [inlined]",
      " [7] (::PyObject)(::String) at /opt/julia/packages/PyCall/ttONZ/src/pyfncall.jl:89",
      " [8] top-level scope at In[34]:2"
     ]
    }
   ],
   "source": [
    "shf.mPreventRedundantExtendedAssignments = false\n",
    "\n",
    "shf.MaximallyExtendCell(\"Cell_1\")\n",
    "#shf.MaximallyExtendCell(\"Cell_2\")\n",
    "#shf.MaximallyExtendCell(\"Cell_3\")\n",
    "\n",
    "#consistency_radius = shf.ComputeConsistencyRadius()\n",
    "\n",
    "#print(\"The consistency radius is $consistency_radius\")"
   ]
  },
  {
   "cell_type": "code",
   "execution_count": null,
   "metadata": {},
   "outputs": [],
   "source": []
  }
 ],
 "metadata": {
  "kernelspec": {
   "display_name": "Julia 1.2.0",
   "language": "julia",
   "name": "julia-1.2"
  },
  "language_info": {
   "file_extension": ".jl",
   "mimetype": "application/julia",
   "name": "julia",
   "version": "1.2.0"
  }
 },
 "nbformat": 4,
 "nbformat_minor": 2
}
